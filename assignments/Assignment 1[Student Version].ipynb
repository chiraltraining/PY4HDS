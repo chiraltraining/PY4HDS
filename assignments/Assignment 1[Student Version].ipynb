{
 "cells": [
  {
   "cell_type": "markdown",
   "id": "e45dce2f",
   "metadata": {},
   "source": [
    "# Introduction to Python for Health Data Analytics\n",
    "## Assignment 1\n",
    "*Problem Setting [Bithi Akter](https://hdrobd.org/member/bithi_akter/) | Course  & Materials Designed by [Jubayer Hossain](https://jhossain.me/)*\n",
    "\n",
    "\n",
    "## Instructions \n",
    "1. Don't write just type of data/variable. You have to describe the reason.\n",
    "2. You must provide a doc le with standard format.\n",
    "3. Your assignment le name should be assignment1.docx\n",
    "4. Send your assignment(doc le) at hdrobd.org@gmail.com before"
   ]
  },
  {
   "cell_type": "markdown",
   "id": "a17464e0",
   "metadata": {},
   "source": [
    "## Problem #1 \n",
    "Write a Python program to print the following string in a specific format \n",
    "\n",
    "`\n",
    "Twinkle, twinkle, little star,\n",
    "\tHow I wonder what you are! \n",
    "\t\tUp above the world so high,   \t\t\n",
    "\t\tLike a diamond in the sky. \n",
    "Twinkle, twinkle, little star, \n",
    "\tHow I wonder what you are\n",
    "`"
   ]
  },
  {
   "cell_type": "code",
   "execution_count": null,
   "id": "79567d84",
   "metadata": {},
   "outputs": [],
   "source": [
    "# Write your solution \n"
   ]
  },
  {
   "cell_type": "markdown",
   "id": "e3198de7",
   "metadata": {},
   "source": [
    "## Problem #2 \n",
    "Write a Python program to sum all the items in a list"
   ]
  },
  {
   "cell_type": "code",
   "execution_count": 2,
   "id": "52dca67e",
   "metadata": {},
   "outputs": [],
   "source": [
    "# Write your solution\n"
   ]
  },
  {
   "cell_type": "code",
   "execution_count": null,
   "id": "ec07878a",
   "metadata": {},
   "outputs": [],
   "source": []
  },
  {
   "cell_type": "code",
   "execution_count": null,
   "id": "e735c437",
   "metadata": {},
   "outputs": [],
   "source": []
  },
  {
   "cell_type": "code",
   "execution_count": null,
   "id": "18b763c9",
   "metadata": {},
   "outputs": [],
   "source": []
  },
  {
   "cell_type": "markdown",
   "id": "dd5853db",
   "metadata": {},
   "source": [
    "*Course  & Materials Designed by [Jubayer Hossain](https://jhossain.me/) | Copyright &copy; 2021 [Health Data Research Organization](https://hdrobd.org/). All rights reserved*"
   ]
  }
 ],
 "metadata": {
  "kernelspec": {
   "display_name": "Python 3",
   "language": "python",
   "name": "python3"
  },
  "language_info": {
   "codemirror_mode": {
    "name": "ipython",
    "version": 3
   },
   "file_extension": ".py",
   "mimetype": "text/x-python",
   "name": "python",
   "nbconvert_exporter": "python",
   "pygments_lexer": "ipython3",
   "version": "3.8.3"
  },
  "latex_envs": {
   "LaTeX_envs_menu_present": true,
   "autoclose": false,
   "autocomplete": true,
   "bibliofile": "biblio.bib",
   "cite_by": "apalike",
   "current_citInitial": 1,
   "eqLabelWithNumbers": true,
   "eqNumInitial": 1,
   "hotkeys": {
    "equation": "Ctrl-E",
    "itemize": "Ctrl-I"
   },
   "labels_anchors": false,
   "latex_user_defs": false,
   "report_style_numbering": false,
   "user_envs_cfg": false
  }
 },
 "nbformat": 4,
 "nbformat_minor": 5
}
